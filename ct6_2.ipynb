{
  "nbformat": 4,
  "nbformat_minor": 0,
  "metadata": {
    "colab": {
      "provenance": [],
      "authorship_tag": "ABX9TyPfhv4ZcC4gpNFb4gfaAMQ2",
      "include_colab_link": true
    },
    "kernelspec": {
      "name": "python3",
      "display_name": "Python 3"
    },
    "language_info": {
      "name": "python"
    }
  },
  "cells": [
    {
      "cell_type": "markdown",
      "metadata": {
        "id": "view-in-github",
        "colab_type": "text"
      },
      "source": [
        "<a href=\"https://colab.research.google.com/github/JungJaeChan/First/blob/main/ct6_2.ipynb\" target=\"_parent\"><img src=\"https://colab.research.google.com/assets/colab-badge.svg\" alt=\"Open In Colab\"/></a>"
      ]
    },
    {
      "cell_type": "code",
      "execution_count": 8,
      "metadata": {
        "colab": {
          "base_uri": "https://localhost:8080/"
        },
        "id": "NtqcjaR3XjxM",
        "outputId": "37a9de4e-67ea-4c92-819f-2e9abfc61d4b"
      },
      "outputs": [
        {
          "output_type": "stream",
          "name": "stdout",
          "text": [
            "성적을 입력하세요:  45\n",
            "성적을 입력하세요:  655\n",
            "성적을 입력하세요:  456\n",
            "성적을 입력하세요:  5467\n",
            "성적을 입력하세요:  8356\n",
            "성적을 입력하세요:  837\n",
            "성적을 입력하세요:  4567\n",
            "성적을 입력하세요:  9357\n",
            "성적을 입력하세요:  8357\n",
            "성적을 입력하세요:  378\n",
            "3847.5\n"
          ]
        }
      ],
      "source": [
        "total = 0                                               # total변수는 0이다.486\n",
        "counter = 1                                             # counter변수는 1이다.\n",
        "while counter <= 10:                                    # 아래 코드를 10번 반복하라.\n",
        "       grade = int(input(\"성적을 입력하세요:  \"))       # 성적을 입력하라.\n",
        "       total = int(grade) + total                       # total변수에 total변수와 grade변수를 더한값을 저장하라.\n",
        "       counter = counter + 1                            # counter변수에 counter변수와 1을 더한값을 저장하라.\n",
        "average = total / 10                                    # average변수에 total을 10으로 나눈값을 저장하라.\n",
        "print(average)                                          # 변수 average를 화면에 출력하라."
      ]
    },
    {
      "cell_type": "markdown",
      "source": [
        "학생 10명의 성적을 입력받아 평균을 계산하는 알고리즘을 의사코드로 표현해보자."
      ],
      "metadata": {
        "id": "kCEnL6wyYOtD"
      }
    }
  ]
}